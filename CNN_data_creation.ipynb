{
 "cells": [
  {
   "cell_type": "code",
   "execution_count": 1,
   "metadata": {},
   "outputs": [],
   "source": [
    "import os\n",
    "import cv2\n",
    "import numpy as np\n",
    "from tqdm import tqdm"
   ]
  },
  {
   "cell_type": "code",
   "execution_count": 2,
   "metadata": {},
   "outputs": [],
   "source": [
    "REBUILD_DATA = True"
   ]
  },
  {
   "cell_type": "code",
   "execution_count": 4,
   "metadata": {},
   "outputs": [
    {
     "name": "stderr",
     "output_type": "stream",
     "text": [
      "  1%|▌                                                                             | 81/12501 [00:00<00:15, 804.12it/s]"
     ]
    },
    {
     "name": "stdout",
     "output_type": "stream",
     "text": [
      "PetImages/Cat\n"
     ]
    },
    {
     "name": "stderr",
     "output_type": "stream",
     "text": [
      "100%|███████████████████████████████████████████████████████████████████████████| 12501/12501 [00:14<00:00, 868.05it/s]\n",
      "  1%|▍                                                                             | 80/12501 [00:00<00:15, 793.87it/s]"
     ]
    },
    {
     "name": "stdout",
     "output_type": "stream",
     "text": [
      "PetImages/Dog\n"
     ]
    },
    {
     "name": "stderr",
     "output_type": "stream",
     "text": [
      "100%|███████████████████████████████████████████████████████████████████████████| 12501/12501 [00:14<00:00, 887.97it/s]\n"
     ]
    },
    {
     "name": "stdout",
     "output_type": "stream",
     "text": [
      "cats:  12476\n",
      "dogs:  12470\n"
     ]
    }
   ],
   "source": [
    "class CatsVsDogs:\n",
    "    def __init__(self):\n",
    "        \n",
    "        self.img_size = 100\n",
    "        self.cats = \"PetImages/Cat\"\n",
    "        self.dogs = \"PetImages/Dog\"\n",
    "        self.labels = {self.cats: 0, self.dogs:1}\n",
    "        self.training_data = []\n",
    "        self.cat_count = 0\n",
    "        self.dog_count = 0\n",
    "        \n",
    "    def make_training_data(self):\n",
    "        for label in self.labels:\n",
    "            print(label)\n",
    "            \n",
    "            for f in tqdm(os.listdir(label)):\n",
    "                try:\n",
    "                    path = os.path.join(label, f)\n",
    "                    img = cv2.imread(path, cv2.IMREAD_GRAYSCALE)\n",
    "                    img = cv2.resize(img, (self.img_size, self.img_size))\n",
    "                    self.training_data.append([np.array(img), np.eye(len(self.labels))[self.labels[label]]])\n",
    "                    if label == self.cats:\n",
    "                        self.cat_count += 1\n",
    "                    else:\n",
    "                        self.dog_count += 1\n",
    "                except Exception as e:\n",
    "                    pass\n",
    "                    \n",
    "        np.random.shuffle(self.training_data)\n",
    "        np.save('training_data.npy', self.training_data)\n",
    "        print(\"cats: \", str(self.cat_count))\n",
    "        print(\"dogs: \", str(self.dog_count))\n",
    "              \n",
    "if REBUILD_DATA:\n",
    "    dvc = CatsVsDogs()\n",
    "    dvc.make_training_data()    "
   ]
  },
  {
   "cell_type": "code",
   "execution_count": null,
   "metadata": {},
   "outputs": [],
   "source": []
  }
 ],
 "metadata": {
  "kernelspec": {
   "display_name": "Python 3",
   "language": "python",
   "name": "python3"
  },
  "language_info": {
   "codemirror_mode": {
    "name": "ipython",
    "version": 3
   },
   "file_extension": ".py",
   "mimetype": "text/x-python",
   "name": "python",
   "nbconvert_exporter": "python",
   "pygments_lexer": "ipython3",
   "version": "3.6.5"
  }
 },
 "nbformat": 4,
 "nbformat_minor": 4
}
